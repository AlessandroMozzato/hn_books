{
 "cells": [
  {
   "cell_type": "code",
   "execution_count": 158,
   "metadata": {
    "collapsed": true
   },
   "outputs": [],
   "source": [
    "import requests\n",
    "\n",
    "from collections import Counter\n",
    "import operator\n",
    "import nltk\n",
    "from bs4 import BeautifulSoup\n",
    "\n",
    "import pickle\n",
    "import xmltodict, json\n",
    "import time\n",
    "\n",
    "import numpy as np\n",
    "import pandas as pd\n",
    "\n",
    "import re"
   ]
  },
  {
   "cell_type": "code",
   "execution_count": 159,
   "metadata": {
    "collapsed": true
   },
   "outputs": [],
   "source": [
    "grkey = pickle.load( open( \"grkey.p\", \"rb\" ) )"
   ]
  },
  {
   "cell_type": "code",
   "execution_count": 160,
   "metadata": {
    "collapsed": false
   },
   "outputs": [],
   "source": [
    "# Main page thread: 18661546\n",
    "main_page = requests.request('GET', 'https://hacker-news.firebaseio.com/v0/item/18661546.json').json()"
   ]
  },
  {
   "cell_type": "code",
   "execution_count": 161,
   "metadata": {
    "collapsed": false
   },
   "outputs": [],
   "source": [
    "text = []\n",
    "i  = 0\n",
    "kids = main_page[\"kids\"]\n",
    "kidspast = main_page[\"kids\"]\n",
    "while (kids != []) and (len(kidspast)<main_page['descendants']-1):\n",
    "    kidsnew = []\n",
    "    for kid in kids:\n",
    "        i += 1\n",
    "        item = requests.request('GET', 'https://hacker-news.firebaseio.com/v0/item/{kid}.json'.format(kid=kid)).json()\n",
    "        try:\n",
    "            soup = BeautifulSoup(item['text'])\n",
    "            text.append(soup.findAll(text=True))\n",
    "        except:\n",
    "            pass\n",
    "        try:\n",
    "            kidsnew += item['kids']\n",
    "        except:\n",
    "            pass\n",
    "    kidspast += list(set(kidsnew))\n",
    "    kidspast = list(set(kidspast))\n",
    "    kids = [k for k in list(set(kidsnew)) if k not in kidspast]\n",
    "    \n",
    "flat_list = [item for sublist in text for item in sublist]"
   ]
  },
  {
   "cell_type": "code",
   "execution_count": 162,
   "metadata": {
    "collapsed": true
   },
   "outputs": [],
   "source": [
    "pickle.dump(text, open( \"text.p\", \"wb\" ))"
   ]
  },
  {
   "cell_type": "code",
   "execution_count": 163,
   "metadata": {
    "collapsed": false
   },
   "outputs": [],
   "source": [
    "text = pickle.load( open( \"text.p\", \"rb\" ) )"
   ]
  },
  {
   "cell_type": "code",
   "execution_count": 164,
   "metadata": {
    "collapsed": true
   },
   "outputs": [],
   "source": [
    "text_clean = [re.sub(r\"[^a-zA-Z0-9]+\", ' ', k)  for t in flat_list for k in t.split(\"\\n\")]"
   ]
  },
  {
   "cell_type": "code",
   "execution_count": 165,
   "metadata": {
    "collapsed": false
   },
   "outputs": [],
   "source": [
    "countsb = Counter()\n",
    "countst = Counter()\n",
    "countsq = Counter()\n",
    "countsc = Counter()\n",
    "\n",
    "words = re.compile(r'\\w+')\n",
    "for t in text_clean:\n",
    "    w = words.findall(t.lower())\n",
    "    countsb.update(zip(w,w[1:]))\n",
    "    countst.update(zip(w,w[1:],w[2:]))\n",
    "    countsq.update(zip(w,w[1:],w[2:],w[3:]))\n",
    "    countsc.update(zip(w,w[1:],w[2:],w[3:],w[4:]))"
   ]
  },
  {
   "cell_type": "code",
   "execution_count": 166,
   "metadata": {
    "collapsed": true
   },
   "outputs": [],
   "source": [
    "results = {}\n",
    "\n",
    "# save the results\n",
    "results[1] = sorted(\n",
    "    countsb.items(),\n",
    "    key=operator.itemgetter(1),\n",
    "    reverse=True\n",
    ")\n",
    "\n",
    "results[2] = sorted(\n",
    "    countst.items(),\n",
    "    key=operator.itemgetter(1),\n",
    "    reverse=True\n",
    ")\n",
    "\n",
    "results[3] = sorted(\n",
    "    countsq.items(),\n",
    "    key=operator.itemgetter(1),\n",
    "    reverse=True\n",
    ")\n",
    "\n",
    "results[4] = sorted(\n",
    "    countsc.items(),\n",
    "    key=operator.itemgetter(1),\n",
    "    reverse=True\n",
    ")"
   ]
  },
  {
   "cell_type": "code",
   "execution_count": 167,
   "metadata": {
    "collapsed": true
   },
   "outputs": [],
   "source": [
    "# save the results\n",
    "bigrams = sorted(\n",
    "    countsb.items(),\n",
    "    key=operator.itemgetter(1),\n",
    "    reverse=True\n",
    ")"
   ]
  },
  {
   "cell_type": "code",
   "execution_count": 168,
   "metadata": {
    "collapsed": false
   },
   "outputs": [
    {
     "data": {
      "text/plain": [
       "[((u'of', u'the'), 147),\n",
       " ((u'in', u'the'), 76),\n",
       " ((u'it', u's'), 67),\n",
       " ((u'this', u'book'), 52),\n",
       " ((u'this', u'year'), 49),\n",
       " ((u'if', u'you'), 45),\n",
       " ((u'and', u'the'), 44),\n",
       " ((u'i', u've'), 44),\n",
       " ((u'to', u'the'), 40),\n",
       " ((u'i', u'read'), 37)]"
      ]
     },
     "execution_count": 168,
     "metadata": {},
     "output_type": "execute_result"
    }
   ],
   "source": [
    "bigrams[:10]"
   ]
  },
  {
   "cell_type": "code",
   "execution_count": 169,
   "metadata": {
    "collapsed": true
   },
   "outputs": [],
   "source": [
    "stops = [\"i\", \"me\", \"my\", \"myself\", \"we\", \"our\", \"ours\", \"ourselves\", \"you\", \"your\", \"yours\", \"yourself\", \n",
    "         \"yourselves\", \"he\", \"him\", \"his\", \"himself\", \"she\", \"her\", \"hers\", \"herself\", \"it\", \"its\", \n",
    "         \"itself\", \"they\", \"them\", \"their\", \"theirs\", \"themselves\", \"what\", \"which\", \"who\", \"whom\", \n",
    "         \"this\", \"that\", \"these\", \"those\", \"am\", \"is\", \"are\", \"was\", \"were\", \"be\", \"been\", \"being\", \n",
    "         \"have\", \"has\", \"had\", \"having\", \"do\", \"does\", \"did\", \"doing\", \"and\", \"an\", \"a\", \"the\",  \"but\", \n",
    "         \"if\", \"or\", \"because\", \"as\", \"until\", \"while\", \"of\", \"at\", \"by\", \"for\", \"with\", \"about\", \"against\", \n",
    "         \"between\", \"into\", \"through\", \"during\", \"before\", \"after\", \"above\", \"below\", \"to\", \"from\", \"up\", \n",
    "         \"down\", \"in\", \"out\", \"on\", \"off\", \"over\", \"under\", \"again\", \"further\", \"then\", \"once\", \"here\", \n",
    "         \"there\", \"when\", \"where\", \"why\", \"how\", \"all\", \"any\", \"both\", \"each\", \"few\", \"more\", \"most\", \n",
    "         \"other\", \"some\", \"such\", \"no\", \"nor\", \"not\", \"only\", \"own\", \"same\", \"so\", \"than\", \"too\", \"very\", \n",
    "         \"s\", \"t\", \"can\", \"will\", \"just\", \"don\", \"should\", \"now\", 'https', \"www\", \"goodreads\", \"didn\", \"isn\", \"doesn\",\n",
    "        \"recommend\"]"
   ]
  },
  {
   "cell_type": "code",
   "execution_count": 170,
   "metadata": {
    "collapsed": false
   },
   "outputs": [
    {
     "name": "stdout",
     "output_type": "stream",
     "text": [
      "143\n",
      "114\n",
      "56\n",
      "20\n"
     ]
    }
   ],
   "source": [
    "df = {}\n",
    "for k in [1,2,3,4]:\n",
    "    names = []\n",
    "    counts = []\n",
    "    for c in results[k]:\n",
    "        lst = list(c[0])\n",
    "        lst = [w for w in lst if ((w not in stops) and w.isalpha())]\n",
    "        if c[1]>2 & len(lst)>0:\n",
    "            names.append(' '.join(c[0]))\n",
    "            counts.append(c[1])\n",
    "    df[k] = pd.DataFrame(data={'names':names, 'counts':counts})\n",
    "    print(len(df[k]))"
   ]
  },
  {
   "cell_type": "code",
   "execution_count": 181,
   "metadata": {
    "collapsed": false,
    "scrolled": false
   },
   "outputs": [],
   "source": [
    "for jj in [1,2,3,4]:\n",
    "    df[jj]['gr_title'] = None\n",
    "    df[jj]['gr_author'] = None\n",
    "    \n",
    "    for it in df[jj].iterrows():\n",
    "        name = it[1]['names']\n",
    "        res = requests.get(\"https://www.goodreads.com/search/index.xml\" , params={\"key\": grkey, \"q\":name})\n",
    "        xpars = xmltodict.parse(res.text)\n",
    "        json1 = json.dumps(xpars)\n",
    "        d = json.loads(json1) \n",
    "\n",
    "        if d['GoodreadsResponse']['search']['results'] is None:\n",
    "            title = None\n",
    "            author = None\n",
    "        elif type(d['GoodreadsResponse']['search']['results']['work']) == dict:\n",
    "            title = d['GoodreadsResponse']['search']['results']['work']['best_book']['title']\n",
    "            author = d['GoodreadsResponse']['search']['results']['work']['best_book']['author']['name']\n",
    "        else:\n",
    "            lst = d['GoodreadsResponse']['search']['results']['work']\n",
    "            ys = []\n",
    "            for j in range(len(lst)): \n",
    "                if '#text' in lst[j]['original_publication_year'].keys():\n",
    "                    ys.append(int(lst[j]['original_publication_year']['#text']))\n",
    "                else:\n",
    "                    ys.append(1)\n",
    "            j = np.argmax(ys)    \n",
    "            title = lst[j]['best_book']['title']\n",
    "            author = lst[j]['best_book']['author']['name']\n",
    "\n",
    "        df[jj]['gr_title'].loc[it[0]] = title\n",
    "        df[jj]['gr_author'].loc[it[0]] = author\n",
    "        time.sleep(1)"
   ]
  },
  {
   "cell_type": "code",
   "execution_count": 182,
   "metadata": {
    "collapsed": false
   },
   "outputs": [],
   "source": [
    "dff = pd.DataFrame.copy(df[1])\n",
    "dff = dff.append(df[2])\n",
    "dff = dff.append(df[3])\n",
    "dff = dff.append(df[4])"
   ]
  },
  {
   "cell_type": "code",
   "execution_count": 183,
   "metadata": {
    "collapsed": false
   },
   "outputs": [],
   "source": [
    "dff = dff.drop_duplicates(subset=['gr_title', 'gr_author'])\n",
    "dff = dff[dff.gr_title.notnull()]"
   ]
  },
  {
   "cell_type": "code",
   "execution_count": 184,
   "metadata": {
    "collapsed": false
   },
   "outputs": [],
   "source": [
    "books = []\n",
    "titles = []\n",
    "authors = []\n",
    "\n",
    "for it in dff.iterrows():\n",
    "    books.append(it[1]['gr_title'].split(':')[0].split('(')[0])    \n",
    "    titles.append(it[1]['gr_title'])\n",
    "    authors.append(it[1]['gr_author'])    "
   ]
  },
  {
   "cell_type": "code",
   "execution_count": 185,
   "metadata": {
    "collapsed": false
   },
   "outputs": [
    {
     "name": "stdout",
     "output_type": "stream",
     "text": [
      "114\n"
     ]
    }
   ],
   "source": [
    "conts = []\n",
    "for b in books:\n",
    "    count = 0\n",
    "    for f in flat_list:\n",
    "        if f.lower().find(b.lower()) >= 0:\n",
    "            count += 1\n",
    "    conts.append(count)\n",
    "print(sum(conts))"
   ]
  },
  {
   "cell_type": "code",
   "execution_count": 186,
   "metadata": {
    "collapsed": false
   },
   "outputs": [],
   "source": [
    "dfp = pd.DataFrame(data={'books':books, 'counts':conts, 'title':titles, 'author':authors})\n",
    "dfp = dfp[['books', 'counts', 'title', 'author']]"
   ]
  },
  {
   "cell_type": "code",
   "execution_count": 188,
   "metadata": {
    "collapsed": false
   },
   "outputs": [
    {
     "data": {
      "text/html": [
       "<div>\n",
       "<style>\n",
       "    .dataframe thead tr:only-child th {\n",
       "        text-align: right;\n",
       "    }\n",
       "\n",
       "    .dataframe thead th {\n",
       "        text-align: left;\n",
       "    }\n",
       "\n",
       "    .dataframe tbody tr th {\n",
       "        vertical-align: top;\n",
       "    }\n",
       "</style>\n",
       "<table border=\"1\" class=\"dataframe\">\n",
       "  <thead>\n",
       "    <tr style=\"text-align: right;\">\n",
       "      <th></th>\n",
       "      <th>books</th>\n",
       "      <th>counts</th>\n",
       "      <th>title</th>\n",
       "      <th>author</th>\n",
       "    </tr>\n",
       "  </thead>\n",
       "  <tbody>\n",
       "    <tr>\n",
       "      <th>0</th>\n",
       "      <td>Bad Blood</td>\n",
       "      <td>12</td>\n",
       "      <td>Bad Blood: Secrets and Lies in a Silicon Valle...</td>\n",
       "      <td>John Carreyrou</td>\n",
       "    </tr>\n",
       "    <tr>\n",
       "      <th>1</th>\n",
       "      <td>Why We Sleep</td>\n",
       "      <td>7</td>\n",
       "      <td>Why We Sleep: Unlocking the Power of Sleep and...</td>\n",
       "      <td>Matthew Walker</td>\n",
       "    </tr>\n",
       "    <tr>\n",
       "      <th>2</th>\n",
       "      <td>Magi</td>\n",
       "      <td>7</td>\n",
       "      <td>Magi: Uncovering the Secret Society That Read ...</td>\n",
       "      <td>Adrian Geoffrey Gilbert</td>\n",
       "    </tr>\n",
       "    <tr>\n",
       "      <th>3</th>\n",
       "      <td>Shoe Dog</td>\n",
       "      <td>6</td>\n",
       "      <td>Shoe Dog: A Memoir by the Creator of NIKE</td>\n",
       "      <td>Phil Knight</td>\n",
       "    </tr>\n",
       "    <tr>\n",
       "      <th>4</th>\n",
       "      <td>How to Change Your Mind</td>\n",
       "      <td>6</td>\n",
       "      <td>How to Change Your Mind: What the New Science ...</td>\n",
       "      <td>Michael Pollan</td>\n",
       "    </tr>\n",
       "    <tr>\n",
       "      <th>5</th>\n",
       "      <td>Factfulness</td>\n",
       "      <td>5</td>\n",
       "      <td>Factfulness: Ten Reasons We're Wrong About the...</td>\n",
       "      <td>Hans Rosling</td>\n",
       "    </tr>\n",
       "    <tr>\n",
       "      <th>6</th>\n",
       "      <td>Man's Search for Meaning</td>\n",
       "      <td>5</td>\n",
       "      <td>Man's Search for Meaning</td>\n",
       "      <td>Viktor E. Frankl</td>\n",
       "    </tr>\n",
       "    <tr>\n",
       "      <th>7</th>\n",
       "      <td>Deep Work</td>\n",
       "      <td>5</td>\n",
       "      <td>Deep Work: Rules for Focused Success in a Dist...</td>\n",
       "      <td>Cal Newport</td>\n",
       "    </tr>\n",
       "    <tr>\n",
       "      <th>8</th>\n",
       "      <td>Homo Deus</td>\n",
       "      <td>4</td>\n",
       "      <td>Homo Deus: A Brief History of Tomorrow</td>\n",
       "      <td>Yuval Noah Harari</td>\n",
       "    </tr>\n",
       "    <tr>\n",
       "      <th>9</th>\n",
       "      <td>The Phoenix Project</td>\n",
       "      <td>4</td>\n",
       "      <td>The Phoenix Project</td>\n",
       "      <td>D.M. Cain</td>\n",
       "    </tr>\n",
       "    <tr>\n",
       "      <th>10</th>\n",
       "      <td>21 Lessons for the 21st Century</td>\n",
       "      <td>4</td>\n",
       "      <td>21 Lessons for the 21st Century</td>\n",
       "      <td>Yuval Noah Harari</td>\n",
       "    </tr>\n",
       "    <tr>\n",
       "      <th>11</th>\n",
       "      <td>Thinking in Systems</td>\n",
       "      <td>4</td>\n",
       "      <td>Thinking in Systems: A Primer</td>\n",
       "      <td>Tia T. Farmer</td>\n",
       "    </tr>\n",
       "    <tr>\n",
       "      <th>12</th>\n",
       "      <td>Leonardo da Vinci</td>\n",
       "      <td>4</td>\n",
       "      <td>Leonardo da Vinci</td>\n",
       "      <td>Walter Isaacson</td>\n",
       "    </tr>\n",
       "    <tr>\n",
       "      <th>13</th>\n",
       "      <td>Never Split the Difference</td>\n",
       "      <td>3</td>\n",
       "      <td>Never Split the Difference: Negotiating As If ...</td>\n",
       "      <td>Chris Voss</td>\n",
       "    </tr>\n",
       "    <tr>\n",
       "      <th>14</th>\n",
       "      <td>Extreme Ownership</td>\n",
       "      <td>3</td>\n",
       "      <td>Extreme Ownership: How U.S. Navy SEALs Lead an...</td>\n",
       "      <td>Jocko Willink</td>\n",
       "    </tr>\n",
       "    <tr>\n",
       "      <th>15</th>\n",
       "      <td>Linear Algebra</td>\n",
       "      <td>3</td>\n",
       "      <td>Linear Algebra</td>\n",
       "      <td>Jim Hefferon</td>\n",
       "    </tr>\n",
       "    <tr>\n",
       "      <th>16</th>\n",
       "      <td>12 Rules for Life</td>\n",
       "      <td>3</td>\n",
       "      <td>12 Rules for Life: An Antidote to Chaos</td>\n",
       "      <td>Jordan B. Peterson</td>\n",
       "    </tr>\n",
       "    <tr>\n",
       "      <th>17</th>\n",
       "      <td>Prisoners of Geography</td>\n",
       "      <td>3</td>\n",
       "      <td>Prisoners of Geography: Ten Maps That Tell You...</td>\n",
       "      <td>Tim Marshall</td>\n",
       "    </tr>\n",
       "    <tr>\n",
       "      <th>18</th>\n",
       "      <td>Skin in the Game</td>\n",
       "      <td>3</td>\n",
       "      <td>Skin in the Game: The Hidden Asymmetries in Da...</td>\n",
       "      <td>Nassim Nicholas Taleb</td>\n",
       "    </tr>\n",
       "    <tr>\n",
       "      <th>19</th>\n",
       "      <td>Atomic Habits</td>\n",
       "      <td>3</td>\n",
       "      <td>Atomic Habits: An Easy &amp; Proven Way to Build G...</td>\n",
       "      <td>James Clear</td>\n",
       "    </tr>\n",
       "  </tbody>\n",
       "</table>\n",
       "</div>"
      ],
      "text/plain": [
       "                              books  counts  \\\n",
       "0                         Bad Blood      12   \n",
       "1                      Why We Sleep       7   \n",
       "2                              Magi       7   \n",
       "3                          Shoe Dog       6   \n",
       "4           How to Change Your Mind       6   \n",
       "5                       Factfulness       5   \n",
       "6          Man's Search for Meaning       5   \n",
       "7                         Deep Work       5   \n",
       "8                         Homo Deus       4   \n",
       "9               The Phoenix Project       4   \n",
       "10  21 Lessons for the 21st Century       4   \n",
       "11              Thinking in Systems       4   \n",
       "12                Leonardo da Vinci       4   \n",
       "13       Never Split the Difference       3   \n",
       "14                Extreme Ownership       3   \n",
       "15                   Linear Algebra       3   \n",
       "16                12 Rules for Life       3   \n",
       "17           Prisoners of Geography       3   \n",
       "18                 Skin in the Game       3   \n",
       "19                    Atomic Habits       3   \n",
       "\n",
       "                                                title                   author  \n",
       "0   Bad Blood: Secrets and Lies in a Silicon Valle...           John Carreyrou  \n",
       "1   Why We Sleep: Unlocking the Power of Sleep and...           Matthew Walker  \n",
       "2   Magi: Uncovering the Secret Society That Read ...  Adrian Geoffrey Gilbert  \n",
       "3           Shoe Dog: A Memoir by the Creator of NIKE              Phil Knight  \n",
       "4   How to Change Your Mind: What the New Science ...           Michael Pollan  \n",
       "5   Factfulness: Ten Reasons We're Wrong About the...             Hans Rosling  \n",
       "6                            Man's Search for Meaning         Viktor E. Frankl  \n",
       "7   Deep Work: Rules for Focused Success in a Dist...              Cal Newport  \n",
       "8              Homo Deus: A Brief History of Tomorrow        Yuval Noah Harari  \n",
       "9                                 The Phoenix Project                D.M. Cain  \n",
       "10                    21 Lessons for the 21st Century        Yuval Noah Harari  \n",
       "11                      Thinking in Systems: A Primer            Tia T. Farmer  \n",
       "12                                  Leonardo da Vinci          Walter Isaacson  \n",
       "13  Never Split the Difference: Negotiating As If ...               Chris Voss  \n",
       "14  Extreme Ownership: How U.S. Navy SEALs Lead an...            Jocko Willink  \n",
       "15                                     Linear Algebra             Jim Hefferon  \n",
       "16            12 Rules for Life: An Antidote to Chaos       Jordan B. Peterson  \n",
       "17  Prisoners of Geography: Ten Maps That Tell You...             Tim Marshall  \n",
       "18  Skin in the Game: The Hidden Asymmetries in Da...    Nassim Nicholas Taleb  \n",
       "19  Atomic Habits: An Easy & Proven Way to Build G...              James Clear  "
      ]
     },
     "execution_count": 188,
     "metadata": {},
     "output_type": "execute_result"
    }
   ],
   "source": [
    "dfp[dfp['counts']>2].sort_values('counts', ascending=False).reset_index(drop=True)"
   ]
  },
  {
   "cell_type": "code",
   "execution_count": 187,
   "metadata": {
    "collapsed": false,
    "scrolled": false
   },
   "outputs": [
    {
     "name": "stdout",
     "output_type": "stream",
     "text": [
      "<table border=\"1\" class=\"dataframe\">\n",
      "  <thead>\n",
      "    <tr style=\"text-align: right;\">\n",
      "      <th></th>\n",
      "      <th>books</th>\n",
      "      <th>counts</th>\n",
      "      <th>title</th>\n",
      "      <th>author</th>\n",
      "    </tr>\n",
      "  </thead>\n",
      "  <tbody>\n",
      "    <tr>\n",
      "      <th>0</th>\n",
      "      <td>Bad Blood</td>\n",
      "      <td>12</td>\n",
      "      <td>Bad Blood: Secrets and Lies in a Silicon Valle...</td>\n",
      "      <td>John Carreyrou</td>\n",
      "    </tr>\n",
      "    <tr>\n",
      "      <th>1</th>\n",
      "      <td>Why We Sleep</td>\n",
      "      <td>7</td>\n",
      "      <td>Why We Sleep: Unlocking the Power of Sleep and...</td>\n",
      "      <td>Matthew Walker</td>\n",
      "    </tr>\n",
      "    <tr>\n",
      "      <th>2</th>\n",
      "      <td>Magi</td>\n",
      "      <td>7</td>\n",
      "      <td>Magi: Uncovering the Secret Society That Read ...</td>\n",
      "      <td>Adrian Geoffrey Gilbert</td>\n",
      "    </tr>\n",
      "    <tr>\n",
      "      <th>3</th>\n",
      "      <td>Shoe Dog</td>\n",
      "      <td>6</td>\n",
      "      <td>Shoe Dog: A Memoir by the Creator of NIKE</td>\n",
      "      <td>Phil Knight</td>\n",
      "    </tr>\n",
      "    <tr>\n",
      "      <th>4</th>\n",
      "      <td>How to Change Your Mind</td>\n",
      "      <td>6</td>\n",
      "      <td>How to Change Your Mind: What the New Science ...</td>\n",
      "      <td>Michael Pollan</td>\n",
      "    </tr>\n",
      "    <tr>\n",
      "      <th>5</th>\n",
      "      <td>Factfulness</td>\n",
      "      <td>5</td>\n",
      "      <td>Factfulness: Ten Reasons We're Wrong About the...</td>\n",
      "      <td>Hans Rosling</td>\n",
      "    </tr>\n",
      "    <tr>\n",
      "      <th>6</th>\n",
      "      <td>Man's Search for Meaning</td>\n",
      "      <td>5</td>\n",
      "      <td>Man's Search for Meaning</td>\n",
      "      <td>Viktor E. Frankl</td>\n",
      "    </tr>\n",
      "    <tr>\n",
      "      <th>7</th>\n",
      "      <td>Deep Work</td>\n",
      "      <td>5</td>\n",
      "      <td>Deep Work: Rules for Focused Success in a Dist...</td>\n",
      "      <td>Cal Newport</td>\n",
      "    </tr>\n",
      "    <tr>\n",
      "      <th>8</th>\n",
      "      <td>Homo Deus</td>\n",
      "      <td>4</td>\n",
      "      <td>Homo Deus: A Brief History of Tomorrow</td>\n",
      "      <td>Yuval Noah Harari</td>\n",
      "    </tr>\n",
      "    <tr>\n",
      "      <th>9</th>\n",
      "      <td>The Phoenix Project</td>\n",
      "      <td>4</td>\n",
      "      <td>The Phoenix Project</td>\n",
      "      <td>D.M. Cain</td>\n",
      "    </tr>\n",
      "    <tr>\n",
      "      <th>10</th>\n",
      "      <td>21 Lessons for the 21st Century</td>\n",
      "      <td>4</td>\n",
      "      <td>21 Lessons for the 21st Century</td>\n",
      "      <td>Yuval Noah Harari</td>\n",
      "    </tr>\n",
      "    <tr>\n",
      "      <th>11</th>\n",
      "      <td>Thinking in Systems</td>\n",
      "      <td>4</td>\n",
      "      <td>Thinking in Systems: A Primer</td>\n",
      "      <td>Tia T. Farmer</td>\n",
      "    </tr>\n",
      "    <tr>\n",
      "      <th>12</th>\n",
      "      <td>Leonardo da Vinci</td>\n",
      "      <td>4</td>\n",
      "      <td>Leonardo da Vinci</td>\n",
      "      <td>Walter Isaacson</td>\n",
      "    </tr>\n",
      "    <tr>\n",
      "      <th>13</th>\n",
      "      <td>Never Split the Difference</td>\n",
      "      <td>3</td>\n",
      "      <td>Never Split the Difference: Negotiating As If ...</td>\n",
      "      <td>Chris Voss</td>\n",
      "    </tr>\n",
      "    <tr>\n",
      "      <th>14</th>\n",
      "      <td>Extreme Ownership</td>\n",
      "      <td>3</td>\n",
      "      <td>Extreme Ownership: How U.S. Navy SEALs Lead an...</td>\n",
      "      <td>Jocko Willink</td>\n",
      "    </tr>\n",
      "    <tr>\n",
      "      <th>15</th>\n",
      "      <td>Linear Algebra</td>\n",
      "      <td>3</td>\n",
      "      <td>Linear Algebra</td>\n",
      "      <td>Jim Hefferon</td>\n",
      "    </tr>\n",
      "    <tr>\n",
      "      <th>16</th>\n",
      "      <td>12 Rules for Life</td>\n",
      "      <td>3</td>\n",
      "      <td>12 Rules for Life: An Antidote to Chaos</td>\n",
      "      <td>Jordan B. Peterson</td>\n",
      "    </tr>\n",
      "    <tr>\n",
      "      <th>17</th>\n",
      "      <td>Prisoners of Geography</td>\n",
      "      <td>3</td>\n",
      "      <td>Prisoners of Geography: Ten Maps That Tell You...</td>\n",
      "      <td>Tim Marshall</td>\n",
      "    </tr>\n",
      "    <tr>\n",
      "      <th>18</th>\n",
      "      <td>Skin in the Game</td>\n",
      "      <td>3</td>\n",
      "      <td>Skin in the Game: The Hidden Asymmetries in Da...</td>\n",
      "      <td>Nassim Nicholas Taleb</td>\n",
      "    </tr>\n",
      "    <tr>\n",
      "      <th>19</th>\n",
      "      <td>Atomic Habits</td>\n",
      "      <td>3</td>\n",
      "      <td>Atomic Habits: An Easy &amp; Proven Way to Build G...</td>\n",
      "      <td>James Clear</td>\n",
      "    </tr>\n",
      "  </tbody>\n",
      "</table>\n"
     ]
    }
   ],
   "source": [
    "print dfp[dfp['counts']>2].sort_values('counts', ascending=False).reset_index(drop=True).to_html()"
   ]
  },
  {
   "cell_type": "code",
   "execution_count": null,
   "metadata": {
    "collapsed": true
   },
   "outputs": [],
   "source": []
  }
 ],
 "metadata": {
  "kernelspec": {
   "display_name": "Python 2",
   "language": "python",
   "name": "python2"
  },
  "language_info": {
   "codemirror_mode": {
    "name": "ipython",
    "version": 2
   },
   "file_extension": ".py",
   "mimetype": "text/x-python",
   "name": "python",
   "nbconvert_exporter": "python",
   "pygments_lexer": "ipython2",
   "version": "2.7.12"
  }
 },
 "nbformat": 4,
 "nbformat_minor": 0
}
