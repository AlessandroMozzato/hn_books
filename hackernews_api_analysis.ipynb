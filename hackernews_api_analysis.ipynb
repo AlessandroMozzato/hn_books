{
 "cells": [
  {
   "cell_type": "code",
   "execution_count": 2,
   "metadata": {
    "collapsed": true
   },
   "outputs": [],
   "source": [
    "import requests\n",
    "\n",
    "from collections import Counter\n",
    "import operator\n",
    "import nltk\n",
    "from bs4 import BeautifulSoup\n",
    "\n",
    "import pickle\n",
    "import xmltodict, json\n",
    "import time\n",
    "\n",
    "import numpy as np\n",
    "import pandas as pd\n",
    "\n",
    "import re"
   ]
  },
  {
   "cell_type": "code",
   "execution_count": 3,
   "metadata": {
    "collapsed": true
   },
   "outputs": [],
   "source": [
    "grkey = pickle.load( open( \"grkey.p\", \"rb\" ) )"
   ]
  },
  {
   "cell_type": "code",
   "execution_count": 4,
   "metadata": {
    "collapsed": false
   },
   "outputs": [],
   "source": [
    "# Main page thread: 18661546\n",
    "main_page = requests.request('GET', 'https://hacker-news.firebaseio.com/v0/item/18661546.json').json()"
   ]
  },
  {
   "cell_type": "code",
   "execution_count": 5,
   "metadata": {
    "collapsed": false
   },
   "outputs": [
    {
     "name": "stderr",
     "output_type": "stream",
     "text": [
      "/Users/am8e13/anaconda/lib/python2.7/site-packages/bs4/__init__.py:166: UserWarning: No parser was explicitly specified, so I'm using the best available HTML parser for this system (\"lxml\"). This usually isn't a problem, but if you run this code on another system, or in a different virtual environment, it may use a different parser and behave differently.\n",
      "\n",
      "To get rid of this warning, change this:\n",
      "\n",
      " BeautifulSoup([your markup])\n",
      "\n",
      "to this:\n",
      "\n",
      " BeautifulSoup([your markup], \"lxml\")\n",
      "\n",
      "  markup_type=markup_type))\n"
     ]
    }
   ],
   "source": [
    "text = []\n",
    "i  = 0\n",
    "kids = main_page[\"kids\"]\n",
    "kidspast = main_page[\"kids\"]\n",
    "while (kids != []) and (len(kidspast)<main_page['descendants']-1):\n",
    "    kidsnew = []\n",
    "    for kid in kids:\n",
    "        i += 1\n",
    "        item = requests.request('GET', 'https://hacker-news.firebaseio.com/v0/item/{kid}.json'.format(kid=kid)).json()\n",
    "        try:\n",
    "            soup = BeautifulSoup(item['text'])\n",
    "            text.append(soup.findAll(text=True))\n",
    "        except:\n",
    "            pass\n",
    "        try:\n",
    "            kidsnew += item['kids']\n",
    "        except:\n",
    "            pass\n",
    "    kidspast += list(set(kidsnew))\n",
    "    kidspast = list(set(kidspast))\n",
    "    kids = [k for k in list(set(kidsnew)) if k not in kidspast]\n",
    "    \n",
    "flat_list = [item for sublist in text for item in sublist]"
   ]
  },
  {
   "cell_type": "code",
   "execution_count": 6,
   "metadata": {
    "collapsed": true
   },
   "outputs": [],
   "source": [
    "pickle.dump(text, open( \"text.p\", \"wb\" ))"
   ]
  },
  {
   "cell_type": "code",
   "execution_count": 7,
   "metadata": {
    "collapsed": false
   },
   "outputs": [],
   "source": [
    "text = pickle.load( open( \"text.p\", \"rb\" ) )"
   ]
  },
  {
   "cell_type": "code",
   "execution_count": 8,
   "metadata": {
    "collapsed": true
   },
   "outputs": [],
   "source": [
    "text_clean = [re.sub(r\"[^a-zA-Z0-9]+\", ' ', k)  for t in flat_list for k in t.split(\"\\n\")]"
   ]
  },
  {
   "cell_type": "code",
   "execution_count": 10,
   "metadata": {
    "collapsed": false
   },
   "outputs": [],
   "source": [
    "countsb = Counter()\n",
    "countst = Counter()\n",
    "countsq = Counter()\n",
    "countsc = Counter()\n",
    "\n",
    "words = re.compile(r'\\w+')\n",
    "for t in text_clean:\n",
    "    w = words.findall(t.lower())\n",
    "    countsb.update(zip(w,w[1:]))\n",
    "    countst.update(zip(w,w[1:],w[2:]))\n",
    "    countsq.update(zip(w,w[1:],w[2:],w[3:]))\n",
    "    countsc.update(zip(w,w[1:],w[2:],w[3:],w[4:]))"
   ]
  },
  {
   "cell_type": "code",
   "execution_count": 11,
   "metadata": {
    "collapsed": true
   },
   "outputs": [],
   "source": [
    "results = {}\n",
    "\n",
    "# save the results\n",
    "results[1] = sorted(\n",
    "    countsb.items(),\n",
    "    key=operator.itemgetter(1),\n",
    "    reverse=True\n",
    ")\n",
    "\n",
    "results[2] = sorted(\n",
    "    countst.items(),\n",
    "    key=operator.itemgetter(1),\n",
    "    reverse=True\n",
    ")\n",
    "\n",
    "results[3] = sorted(\n",
    "    countsq.items(),\n",
    "    key=operator.itemgetter(1),\n",
    "    reverse=True\n",
    ")\n",
    "\n",
    "results[4] = sorted(\n",
    "    countsc.items(),\n",
    "    key=operator.itemgetter(1),\n",
    "    reverse=True\n",
    ")"
   ]
  },
  {
   "cell_type": "code",
   "execution_count": 13,
   "metadata": {
    "collapsed": true
   },
   "outputs": [],
   "source": [
    "stops = [\"i\", \"me\", \"my\", \"myself\", \"we\", \"our\", \"ours\", \"ourselves\", \"you\", \"your\", \"yours\", \"yourself\", \n",
    "         \"yourselves\", \"he\", \"him\", \"his\", \"himself\", \"she\", \"her\", \"hers\", \"herself\", \"it\", \"its\", \n",
    "         \"itself\", \"they\", \"them\", \"their\", \"theirs\", \"themselves\", \"what\", \"which\", \"who\", \"whom\", \n",
    "         \"this\", \"that\", \"these\", \"those\", \"am\", \"is\", \"are\", \"was\", \"were\", \"be\", \"been\", \"being\", \n",
    "         \"have\", \"has\", \"had\", \"having\", \"do\", \"does\", \"did\", \"doing\", \"and\", \"an\", \"a\", \"the\",  \"but\", \n",
    "         \"if\", \"or\", \"because\", \"as\", \"until\", \"while\", \"of\", \"at\", \"by\", \"for\", \"with\", \"about\", \"against\", \n",
    "         \"between\", \"into\", \"through\", \"during\", \"before\", \"after\", \"above\", \"below\", \"to\", \"from\", \"up\", \n",
    "         \"down\", \"in\", \"out\", \"on\", \"off\", \"over\", \"under\", \"again\", \"further\", \"then\", \"once\", \"here\", \n",
    "         \"there\", \"when\", \"where\", \"why\", \"how\", \"all\", \"any\", \"both\", \"each\", \"few\", \"more\", \"most\", \n",
    "         \"other\", \"some\", \"such\", \"no\", \"nor\", \"not\", \"only\", \"own\", \"same\", \"so\", \"than\", \"too\", \"very\", \n",
    "         \"s\", \"t\", \"can\", \"will\", \"just\", \"don\", \"should\", \"now\", 'https', \"www\", \"goodreads\", \"didn\", \"isn\", \"doesn\"]"
   ]
  },
  {
   "cell_type": "code",
   "execution_count": 14,
   "metadata": {
    "collapsed": false
   },
   "outputs": [
    {
     "name": "stdout",
     "output_type": "stream",
     "text": [
      "146\n",
      "117\n",
      "56\n",
      "20\n"
     ]
    }
   ],
   "source": [
    "df = {}\n",
    "for k in [1,2,3,4]:\n",
    "    names = []\n",
    "    counts = []\n",
    "    for c in results[k]:\n",
    "        lst = list(c[0])\n",
    "        lst = [w for w in lst if ((w not in stops) and w.isalpha())]\n",
    "        if c[1]>2 & len(lst)>0:\n",
    "            names.append(' '.join(c[0]))\n",
    "            counts.append(c[1])\n",
    "    df[k] = pd.DataFrame(data={'names':names, 'counts':counts})\n",
    "    print(len(df[k]))"
   ]
  },
  {
   "cell_type": "code",
   "execution_count": null,
   "metadata": {
    "collapsed": false,
    "scrolled": false
   },
   "outputs": [],
   "source": [
    "for jj in [1,2,3,4]:\n",
    "    df[jj]['gr_title'] = None\n",
    "    df[jj]['gr_author'] = None\n",
    "    \n",
    "    for it in df[jj].iterrows():\n",
    "        name = it[1]['names']\n",
    "        res = requests.get(\"https://www.goodreads.com/search/index.xml\" , params={\"key\": grkey, \"q\":name})\n",
    "        xpars = xmltodict.parse(res.text)\n",
    "        json1 = json.dumps(xpars)\n",
    "        d = json.loads(json1) \n",
    "\n",
    "        if d['GoodreadsResponse']['search']['results'] is None:\n",
    "            title = None\n",
    "            author = None\n",
    "        elif type(d['GoodreadsResponse']['search']['results']['work']) == dict:\n",
    "            title = d['GoodreadsResponse']['search']['results']['work']['best_book']['title']\n",
    "            author = d['GoodreadsResponse']['search']['results']['work']['best_book']['author']['name']\n",
    "        else:\n",
    "            lst = d['GoodreadsResponse']['search']['results']['work']\n",
    "            ys = []\n",
    "            for j in range(len(lst)): \n",
    "                if '#text' in lst[j]['original_publication_year'].keys():\n",
    "                    #avg_rat.append(lst[j]['average_rating'])\n",
    "                    ys.append(int(lst[j]['original_publication_year']['#text']))\n",
    "                    #rat_count.append(lst[j]['ratings_count'])\n",
    "                else:\n",
    "                    ys.append(1)\n",
    "            j = np.argmax(ys)    \n",
    "            title = lst[j]['best_book']['title']\n",
    "            author = lst[j]['best_book']['author']['name']\n",
    "\n",
    "        df[jj]['gr_title'].loc[it[0]] = title\n",
    "        df[jj]['gr_author'].loc[it[0]] = author\n",
    "        time.sleep(1)"
   ]
  },
  {
   "cell_type": "code",
   "execution_count": 530,
   "metadata": {
    "collapsed": false
   },
   "outputs": [],
   "source": [
    "lst = []\n",
    "for j in [1,2,3,4]:\n",
    "    lst += list(set(df[j]['gr_title']))\n",
    "lst = list(set(lst))"
   ]
  },
  {
   "cell_type": "code",
   "execution_count": 531,
   "metadata": {
    "collapsed": false
   },
   "outputs": [],
   "source": [
    "books = []\n",
    "for j in lst:\n",
    "    if j != None:\n",
    "        b = j.split(':')[0].split('(')[0]\n",
    "        books.append(b)"
   ]
  },
  {
   "cell_type": "code",
   "execution_count": 532,
   "metadata": {
    "collapsed": false
   },
   "outputs": [
    {
     "name": "stdout",
     "output_type": "stream",
     "text": [
      "117\n"
     ]
    }
   ],
   "source": [
    "conts = []\n",
    "for b in books:\n",
    "    count = 0\n",
    "    for f in flat_list:\n",
    "        if f.lower().find(b.lower()) >= 0:\n",
    "            count += 1\n",
    "    conts.append(count)\n",
    "print(sum(conts))"
   ]
  },
  {
   "cell_type": "code",
   "execution_count": 533,
   "metadata": {
    "collapsed": false
   },
   "outputs": [],
   "source": [
    "dfp = pd.DataFrame(data={'books':books, 'counts':conts})"
   ]
  },
  {
   "cell_type": "code",
   "execution_count": 534,
   "metadata": {
    "collapsed": false
   },
   "outputs": [
    {
     "data": {
      "text/html": [
       "<div>\n",
       "<style>\n",
       "    .dataframe thead tr:only-child th {\n",
       "        text-align: right;\n",
       "    }\n",
       "\n",
       "    .dataframe thead th {\n",
       "        text-align: left;\n",
       "    }\n",
       "\n",
       "    .dataframe tbody tr th {\n",
       "        vertical-align: top;\n",
       "    }\n",
       "</style>\n",
       "<table border=\"1\" class=\"dataframe\">\n",
       "  <thead>\n",
       "    <tr style=\"text-align: right;\">\n",
       "      <th></th>\n",
       "      <th>books</th>\n",
       "      <th>counts</th>\n",
       "    </tr>\n",
       "  </thead>\n",
       "  <tbody>\n",
       "    <tr>\n",
       "      <th>104</th>\n",
       "      <td>Bad Blood</td>\n",
       "      <td>12</td>\n",
       "    </tr>\n",
       "    <tr>\n",
       "      <th>19</th>\n",
       "      <td>Magi</td>\n",
       "      <td>7</td>\n",
       "    </tr>\n",
       "    <tr>\n",
       "      <th>53</th>\n",
       "      <td>Why We Sleep</td>\n",
       "      <td>7</td>\n",
       "    </tr>\n",
       "    <tr>\n",
       "      <th>165</th>\n",
       "      <td>How to Change Your Mind</td>\n",
       "      <td>6</td>\n",
       "    </tr>\n",
       "    <tr>\n",
       "      <th>153</th>\n",
       "      <td>Shoe Dog</td>\n",
       "      <td>6</td>\n",
       "    </tr>\n",
       "    <tr>\n",
       "      <th>89</th>\n",
       "      <td>Man's Search for Meaning</td>\n",
       "      <td>5</td>\n",
       "    </tr>\n",
       "    <tr>\n",
       "      <th>157</th>\n",
       "      <td>Factfulness</td>\n",
       "      <td>5</td>\n",
       "    </tr>\n",
       "    <tr>\n",
       "      <th>139</th>\n",
       "      <td>Deep Work</td>\n",
       "      <td>5</td>\n",
       "    </tr>\n",
       "    <tr>\n",
       "      <th>24</th>\n",
       "      <td>Thinking in Systems</td>\n",
       "      <td>4</td>\n",
       "    </tr>\n",
       "    <tr>\n",
       "      <th>156</th>\n",
       "      <td>21 Lessons for the 21st Century</td>\n",
       "      <td>4</td>\n",
       "    </tr>\n",
       "    <tr>\n",
       "      <th>108</th>\n",
       "      <td>Leonardo da Vinci</td>\n",
       "      <td>4</td>\n",
       "    </tr>\n",
       "    <tr>\n",
       "      <th>2</th>\n",
       "      <td>The Phoenix Project</td>\n",
       "      <td>4</td>\n",
       "    </tr>\n",
       "    <tr>\n",
       "      <th>92</th>\n",
       "      <td>Homo Deus</td>\n",
       "      <td>4</td>\n",
       "    </tr>\n",
       "    <tr>\n",
       "      <th>100</th>\n",
       "      <td>Prisoners of Geography</td>\n",
       "      <td>3</td>\n",
       "    </tr>\n",
       "    <tr>\n",
       "      <th>149</th>\n",
       "      <td>12 Rules for Life</td>\n",
       "      <td>3</td>\n",
       "    </tr>\n",
       "    <tr>\n",
       "      <th>1</th>\n",
       "      <td>I Recommend</td>\n",
       "      <td>3</td>\n",
       "    </tr>\n",
       "    <tr>\n",
       "      <th>76</th>\n",
       "      <td>Skin in the Game</td>\n",
       "      <td>3</td>\n",
       "    </tr>\n",
       "    <tr>\n",
       "      <th>29</th>\n",
       "      <td>Atomic Habits</td>\n",
       "      <td>3</td>\n",
       "    </tr>\n",
       "    <tr>\n",
       "      <th>27</th>\n",
       "      <td>Never Split the Difference</td>\n",
       "      <td>3</td>\n",
       "    </tr>\n",
       "    <tr>\n",
       "      <th>4</th>\n",
       "      <td>Extreme Ownership</td>\n",
       "      <td>3</td>\n",
       "    </tr>\n",
       "    <tr>\n",
       "      <th>174</th>\n",
       "      <td>Linear Algebra</td>\n",
       "      <td>3</td>\n",
       "    </tr>\n",
       "    <tr>\n",
       "      <th>97</th>\n",
       "      <td>Signal</td>\n",
       "      <td>2</td>\n",
       "    </tr>\n",
       "    <tr>\n",
       "      <th>63</th>\n",
       "      <td>The Subtle Art of Not Giving a F*ck</td>\n",
       "      <td>2</td>\n",
       "    </tr>\n",
       "    <tr>\n",
       "      <th>42</th>\n",
       "      <td>Blown Away</td>\n",
       "      <td>2</td>\n",
       "    </tr>\n",
       "    <tr>\n",
       "      <th>34</th>\n",
       "      <td>The Broken Earth Trilogy</td>\n",
       "      <td>2</td>\n",
       "    </tr>\n",
       "    <tr>\n",
       "      <th>154</th>\n",
       "      <td>Department of Defense</td>\n",
       "      <td>2</td>\n",
       "    </tr>\n",
       "    <tr>\n",
       "      <th>10</th>\n",
       "      <td>The Three-Body Problem</td>\n",
       "      <td>2</td>\n",
       "    </tr>\n",
       "  </tbody>\n",
       "</table>\n",
       "</div>"
      ],
      "text/plain": [
       "                                   books  counts\n",
       "104                            Bad Blood      12\n",
       "19                                  Magi       7\n",
       "53                          Why We Sleep       7\n",
       "165              How to Change Your Mind       6\n",
       "153                             Shoe Dog       6\n",
       "89              Man's Search for Meaning       5\n",
       "157                          Factfulness       5\n",
       "139                            Deep Work       5\n",
       "24                   Thinking in Systems       4\n",
       "156      21 Lessons for the 21st Century       4\n",
       "108                    Leonardo da Vinci       4\n",
       "2                    The Phoenix Project       4\n",
       "92                             Homo Deus       4\n",
       "100               Prisoners of Geography       3\n",
       "149                    12 Rules for Life       3\n",
       "1                            I Recommend       3\n",
       "76                      Skin in the Game       3\n",
       "29                         Atomic Habits       3\n",
       "27            Never Split the Difference       3\n",
       "4                      Extreme Ownership       3\n",
       "174                       Linear Algebra       3\n",
       "97                               Signal        2\n",
       "63   The Subtle Art of Not Giving a F*ck       2\n",
       "42                            Blown Away       2\n",
       "34              The Broken Earth Trilogy       2\n",
       "154               Department of Defense        2\n",
       "10               The Three-Body Problem        2"
      ]
     },
     "execution_count": 534,
     "metadata": {},
     "output_type": "execute_result"
    }
   ],
   "source": [
    "dfp[dfp['counts']>1].sort_values('counts', ascending=False)"
   ]
  },
  {
   "cell_type": "code",
   "execution_count": null,
   "metadata": {
    "collapsed": true
   },
   "outputs": [],
   "source": []
  }
 ],
 "metadata": {
  "kernelspec": {
   "display_name": "Python 2",
   "language": "python",
   "name": "python2"
  },
  "language_info": {
   "codemirror_mode": {
    "name": "ipython",
    "version": 2
   },
   "file_extension": ".py",
   "mimetype": "text/x-python",
   "name": "python",
   "nbconvert_exporter": "python",
   "pygments_lexer": "ipython2",
   "version": "2.7.12"
  }
 },
 "nbformat": 4,
 "nbformat_minor": 0
}
